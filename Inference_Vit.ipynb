{
  "nbformat": 4,
  "nbformat_minor": 0,
  "metadata": {
    "colab": {
      "provenance": [],
      "gpuType": "T4",
      "authorship_tag": "ABX9TyNIGmjobc+l8AHbwBHutcKU",
      "include_colab_link": true
    },
    "kernelspec": {
      "name": "python3",
      "display_name": "Python 3"
    },
    "language_info": {
      "name": "python"
    },
    "accelerator": "GPU"
  },
  "cells": [
    {
      "cell_type": "markdown",
      "metadata": {
        "id": "view-in-github",
        "colab_type": "text"
      },
      "source": [
        "<a href=\"https://colab.research.google.com/github/eliasantoro99/AI-REPO/blob/main/Inference_Vit.ipynb\" target=\"_parent\"><img src=\"https://colab.research.google.com/assets/colab-badge.svg\" alt=\"Open In Colab\"/></a>"
      ]
    },
    {
      "cell_type": "code",
      "execution_count": 11,
      "metadata": {
        "colab": {
          "base_uri": "https://localhost:8080/"
        },
        "id": "cdAM80vmr_tX",
        "outputId": "8103d0a0-914c-4c60-86c5-f96f1e6639a1"
      },
      "outputs": [
        {
          "output_type": "stream",
          "name": "stdout",
          "text": [
            "\n",
            "🔮 Emozione predetta: Embarrassed\n"
          ]
        }
      ],
      "source": [
        "import torch\n",
        "import torch.nn as nn\n",
        "from torchvision import transforms\n",
        "from PIL import Image\n",
        "import timm\n",
        "import os\n",
        "\n",
        "# 🔧 Parametri\n",
        "num_classes = 6\n",
        "model_path = \"best_vit_model.pth\"\n",
        "image_path = \"53941.jpg\"\n",
        "\n",
        "# 🏷️ Etichette delle classi\n",
        "class_names = [\"Angry\", \"Embarrassed\", \"Happy\", \"Neutral\", \"Sad\", \"Scared\"]\n",
        "\n",
        "# 🔄 Trasformazioni (come nel training con ViT)\n",
        "transform = transforms.Compose([\n",
        "    transforms.Resize((224, 224)),\n",
        "    transforms.ToTensor(),\n",
        "    transforms.Normalize([0.485, 0.456, 0.406], [0.229, 0.224, 0.225])\n",
        "])\n",
        "\n",
        "# ⚙️ Device\n",
        "device = torch.device(\"cuda\" if torch.cuda.is_available() else \"cpu\")\n",
        "\n",
        "# 🧠 Carica modello ViT base e carica solo i pesi\n",
        "model = timm.create_model('vit_base_patch16_224', pretrained=False, num_classes=num_classes)\n",
        "model.load_state_dict(torch.load(model_path, map_location=device))\n",
        "model.eval().to(device)\n",
        "\n",
        "# 🖼️ Carica e trasforma immagine\n",
        "image = Image.open(image_path).convert(\"RGB\")\n",
        "input_tensor = transform(image).unsqueeze(0).to(device)\n",
        "\n",
        "# 🔍 Predizione\n",
        "with torch.no_grad():\n",
        "    outputs = model(input_tensor)\n",
        "    _, predicted = torch.max(outputs, 1)\n",
        "    emotion = class_names[predicted.item()]\n",
        "\n",
        "# ✅ Risultato\n",
        "print(f\"\\n🔮 Emozione predetta: {emotion}\")\n"
      ]
    }
  ]
}